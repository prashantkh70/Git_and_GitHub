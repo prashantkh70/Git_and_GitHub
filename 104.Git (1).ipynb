{
 "cells": [
  {
   "cell_type": "code",
   "execution_count": null,
   "id": "07cc878f",
   "metadata": {},
   "outputs": [],
   "source": [
    "local >>>>> cloud,virtual pc,code repository"
   ]
  },
  {
   "cell_type": "markdown",
   "id": "1a696807",
   "metadata": {},
   "source": [
    "# JIRA"
   ]
  },
  {
   "cell_type": "code",
   "execution_count": null,
   "id": "58856818",
   "metadata": {},
   "outputs": [],
   "source": [
    "epic >>> 3 months >>> project plan\n",
    "     sprint1 >>>> 2 week or 15 days or 10 working days\n",
    "            story1 >>> pipeline\n",
    "            story2 >>> EDA:\n",
    "                        encoding:\n",
    "            issue>>>"
   ]
  },
  {
   "cell_type": "markdown",
   "id": "9eaa72e9",
   "metadata": {},
   "source": [
    "# Git"
   ]
  },
  {
   "cell_type": "code",
   "execution_count": null,
   "id": "86826f96",
   "metadata": {},
   "outputs": [],
   "source": [
    "GitHub\n",
    "GitLab\n",
    "GitBucket"
   ]
  },
  {
   "cell_type": "markdown",
   "id": "8b75609f",
   "metadata": {},
   "source": [
    "# 1. Clone Repo"
   ]
  },
  {
   "cell_type": "code",
   "execution_count": null,
   "id": "3487ab5e",
   "metadata": {},
   "outputs": [],
   "source": [
    "git clone url\n",
    "git clone https://github.com/nagevaibhav/medical_insurance.git"
   ]
  },
  {
   "cell_type": "markdown",
   "id": "96bbfa56",
   "metadata": {},
   "source": [
    "# 2. check status of Project"
   ]
  },
  {
   "cell_type": "code",
   "execution_count": null,
   "id": "e029a302",
   "metadata": {},
   "outputs": [],
   "source": [
    "git status"
   ]
  },
  {
   "cell_type": "markdown",
   "id": "9edb0ef8",
   "metadata": {},
   "source": [
    "# 3. Add your files"
   ]
  },
  {
   "cell_type": "code",
   "execution_count": null,
   "id": "97f71338",
   "metadata": {},
   "outputs": [],
   "source": [
    "git add file_name\n",
    "git add interface.py  # single file\n",
    "git add commit.py\n",
    "\n",
    "git add --all    # all files  \n",
    "git add .\n"
   ]
  },
  {
   "cell_type": "markdown",
   "id": "8cac3d2b",
   "metadata": {},
   "source": [
    "# 4. Commit your message"
   ]
  },
  {
   "cell_type": "code",
   "execution_count": null,
   "id": "f896d333",
   "metadata": {},
   "outputs": [],
   "source": [
    "git commit -m \"Your Message\""
   ]
  },
  {
   "cell_type": "markdown",
   "id": "13579b5a",
   "metadata": {},
   "source": [
    "#### smart commit"
   ]
  },
  {
   "cell_type": "markdown",
   "id": "afa81277",
   "metadata": {},
   "source": [
    "git commit -m \"ML-254 #time 8h Updated EDA file\""
   ]
  },
  {
   "cell_type": "code",
   "execution_count": null,
   "id": "6995b959",
   "metadata": {},
   "outputs": [],
   "source": []
  },
  {
   "cell_type": "markdown",
   "id": "0d5155d3",
   "metadata": {},
   "source": [
    "# 5. Git Push"
   ]
  },
  {
   "cell_type": "code",
   "execution_count": null,
   "id": "16410852",
   "metadata": {},
   "outputs": [],
   "source": [
    "git push\n",
    "\n",
    "git push origin branch_name"
   ]
  },
  {
   "cell_type": "markdown",
   "id": "652a6cb4",
   "metadata": {},
   "source": [
    "# 6. Check Branches"
   ]
  },
  {
   "cell_type": "code",
   "execution_count": null,
   "id": "610f6554",
   "metadata": {},
   "outputs": [],
   "source": [
    "git branch"
   ]
  },
  {
   "cell_type": "markdown",
   "id": "1858e07b",
   "metadata": {},
   "source": [
    "# 7. create new branch"
   ]
  },
  {
   "cell_type": "code",
   "execution_count": null,
   "id": "1569dae5",
   "metadata": {},
   "outputs": [],
   "source": [
    "git checkout -b branch_name\n",
    "\n",
    "git checkout -b eda"
   ]
  },
  {
   "cell_type": "markdown",
   "id": "ff6e74c3",
   "metadata": {},
   "source": [
    "# 8. to change branch"
   ]
  },
  {
   "cell_type": "code",
   "execution_count": null,
   "id": "37927727",
   "metadata": {},
   "outputs": [],
   "source": [
    "git checkout branch_name"
   ]
  },
  {
   "cell_type": "markdown",
   "id": "aca45e73",
   "metadata": {},
   "source": [
    "# 9. git pull"
   ]
  },
  {
   "cell_type": "code",
   "execution_count": null,
   "id": "181c1596",
   "metadata": {},
   "outputs": [],
   "source": [
    "git pull\n",
    "git pull origin branch_name"
   ]
  },
  {
   "cell_type": "markdown",
   "id": "508f25e1",
   "metadata": {},
   "source": [
    "# 10. delete branch"
   ]
  },
  {
   "cell_type": "code",
   "execution_count": null,
   "id": "fbff7c32",
   "metadata": {},
   "outputs": [],
   "source": [
    "git branch -d branch name\n",
    "git branch -d eda"
   ]
  },
  {
   "cell_type": "markdown",
   "id": "ec8d8cc2",
   "metadata": {},
   "source": [
    "# 11. Revert changes from added file"
   ]
  },
  {
   "cell_type": "code",
   "execution_count": null,
   "id": "f17ae6a3",
   "metadata": {},
   "outputs": [],
   "source": [
    "git stash"
   ]
  },
  {
   "cell_type": "markdown",
   "id": "8edf7519",
   "metadata": {},
   "source": [
    "# 12. merge two branches"
   ]
  },
  {
   "cell_type": "code",
   "execution_count": null,
   "id": "75ff38e5",
   "metadata": {},
   "outputs": [],
   "source": [
    "git merge new_branch main_branch\n",
    "\n",
    "changes will be reflected in new_branch"
   ]
  }
 ],
 "metadata": {
  "kernelspec": {
   "display_name": "Python 3",
   "language": "python",
   "name": "python3"
  },
  "language_info": {
   "codemirror_mode": {
    "name": "ipython",
    "version": 3
   },
   "file_extension": ".py",
   "mimetype": "text/x-python",
   "name": "python",
   "nbconvert_exporter": "python",
   "pygments_lexer": "ipython3",
   "version": "3.8.8"
  }
 },
 "nbformat": 4,
 "nbformat_minor": 5
}
